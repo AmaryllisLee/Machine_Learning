{
 "cells": [
  {
   "cell_type": "markdown",
   "metadata": {},
   "source": [
    "# P1 - Perceptron\n",
    "Amaryllis Lee <br>\n",
    "Studentnummer: 1735290"
   ]
  },
  {
   "cell_type": "markdown",
   "metadata": {},
   "source": [
    "In deze opdracht zal eer een neurale network van perceptrons geimplementeerd."
   ]
  },
  {
   "cell_type": "markdown",
   "metadata": {},
   "source": [
    "Eerst word er een class *Perceptron* gemaakt met de classvariables *weights* and *bias*. <br>\n",
    "Vervolgens zal er twee functies/methods worden gedefinieerd *activation* en *_str_*(Perceptron af te drukken)."
   ]
  },
  {
   "cell_type": "code",
   "execution_count": 21,
   "metadata": {},
   "outputs": [],
   "source": [
    "class Perceptron:\n",
    "    \n",
    "    def __init__(self,inputsize, list_weights, biases):\n",
    "        self.weights =list_weights\n",
    "        self.biases = biases\n",
    "        \n",
    "    def activation(self, weighted_sum):\n",
    "        #return 0 if weighted_sum < self.biases else 1 \n",
    "        return 0 if (weighted_sum + self.biases)< 0 else 1\n",
    "    # TODO implement biase and not threshold. \n",
    "    # Bias = -threshold and the activation function wold return 0 if weighted_sum(weight *x + b)\n",
    "    \n",
    "    def calculate(self, inputs:[bool]):\n",
    "        w_som = 0\n",
    "        outputs = []\n",
    "        for row in range(len(inputs)):\n",
    "            for i in range(len(inputs[row])):\n",
    "                weight = self.weights[i] # get weight \n",
    "                x = inputs[row][i] # get x\n",
    "                \n",
    "                w_som += (weight*x)\n",
    "            output = self.activation(w_som)\n",
    "            outputs.append(output)\n",
    "            w_som = 0\n",
    "            #print(outputs)\n",
    "        return outputs\n",
    "    \n",
    "    def __str__(self):\n",
    "        return (\"Weights: {}\" + \"\\n\" + \"Biase/Threshold {}\").format(self.weights, self.biases)\n",
    "            "
   ]
  },
  {
   "cell_type": "markdown",
   "metadata": {},
   "source": [
    "## Test Perceptron                                                                                                                                                           "
   ]
  },
  {
   "cell_type": "code",
   "execution_count": null,
   "metadata": {},
   "outputs": [],
   "source": []
  },
  {
   "cell_type": "code",
   "execution_count": 28,
   "metadata": {},
   "outputs": [
    {
     "name": "stdout",
     "output_type": "stream",
     "text": [
      "NOT\n",
      "Weights: [-1]\n",
      "Biase/Threshold -0.5\n",
      "[0, 0]\n"
     ]
    }
   ],
   "source": [
    "input_1 = [[0],[1]]\n",
    "p1 = Perceptron(1, [-1], -0.5) # Invert\n",
    "print(\"NOT\")\n",
    "print(p1)\n",
    "print(p1.calculate(input_1))"
   ]
  },
  {
   "cell_type": "code",
   "execution_count": 29,
   "metadata": {},
   "outputs": [],
   "source": [
    "inputs_2 = ([\n",
    "[0, 0], \n",
    "[0, 1], \n",
    "[1, 0], \n",
    "[1, 1]])"
   ]
  },
  {
   "cell_type": "code",
   "execution_count": 32,
   "metadata": {},
   "outputs": [
    {
     "name": "stdout",
     "output_type": "stream",
     "text": [
      "AND\n",
      "Weights: [1, 1]\n",
      "Biase/Threshold -2\n",
      "[0, 0, 0, 1]\n"
     ]
    }
   ],
   "source": [
    "p2 = Perceptron(2, [1, 1], -2) # AND\n",
    "print(\"AND\")\n",
    "print(p2)\n",
    "print(p2.calculate(inputs_2))"
   ]
  },
  {
   "cell_type": "code",
   "execution_count": 33,
   "metadata": {},
   "outputs": [
    {
     "name": "stdout",
     "output_type": "stream",
     "text": [
      "OR\n",
      "Weights: [0.5, 0.5]\n",
      "Biase/Threshold -0.5\n",
      "[0, 1, 1, 1]\n"
     ]
    }
   ],
   "source": [
    "p3 = Perceptron(2, [0.5, 0.5], -0.5)\n",
    "print(\"OR\")\n",
    "print(p3)\n",
    "print(p3.calculate(inputs_2))"
   ]
  },
  {
   "cell_type": "code",
   "execution_count": 17,
   "metadata": {},
   "outputs": [],
   "source": [
    "inputs_3 = [[0,0,0], \n",
    "      [0,0,1], \n",
    "      [0,1,0],\n",
    "      [1,0,0],\n",
    "      [0,1,1],\n",
    "      [1,0,1],\n",
    "      [1,1,0],\n",
    "      [1,1,1]]"
   ]
  },
  {
   "cell_type": "code",
   "execution_count": 34,
   "metadata": {},
   "outputs": [
    {
     "name": "stdout",
     "output_type": "stream",
     "text": [
      "NOR\n",
      "Weights: [-1, -1, -1]\n",
      "Biase/Threshold 0\n",
      "[1, 0, 0, 0, 0, 0, 0, 0]\n"
     ]
    }
   ],
   "source": [
    "p4 = Perceptron(3, [-1, -1, -1], 0) # NOR\n",
    "print(\"NOR\")\n",
    "print(p4)\n",
    "print(p4.calculate(inputs_3))"
   ]
  },
  {
   "cell_type": "code",
   "execution_count": 36,
   "metadata": {},
   "outputs": [
    {
     "name": "stdout",
     "output_type": "stream",
     "text": [
      "uitgebreider beslissysteem \n",
      "Weights: [0.6, 0.3, 0.2]\n",
      "Biase/Threshold -0.4\n",
      "[0, 0, 0, 1, 1, 1, 1, 1]\n"
     ]
    }
   ],
   "source": [
    "p5 = Perceptron(3, [0.6, 0.3, 0.2], -0.4) # VB Figuur 2.8 uit reader \n",
    "print(\"uitgebreider beslissysteem \")\n",
    "print(p5)\n",
    "print(p5.calculate(inputs_3))"
   ]
  },
  {
   "cell_type": "markdown",
   "metadata": {},
   "source": [
    "## Perceptron netwerk \n",
    "Implementeren/programmeren van een multilayer feed forward network"
   ]
  },
  {
   "cell_type": "code",
   "execution_count": 20,
   "metadata": {},
   "outputs": [],
   "source": [
    "class PerceptonLayer:\n",
    "    \n",
    "    def __init__(self, size):\n",
    "        self.n_perceptrons = []\n",
    "        \n",
    "        def SetPerceptrons(self, p):\n",
    "            self.n_perceptrons.append(p)"
   ]
  },
  {
   "cell_type": "code",
   "execution_count": null,
   "metadata": {},
   "outputs": [],
   "source": [
    "class PerceptonNetwork:\n",
    "    \n",
    "    def __init__(self, network_size):\n",
    "        self.n_layers = []\n",
    "        \n",
    "    def setLayer(self, layer):\n",
    "        self.n_layers.append(layer)\n",
    "        \n",
    "    def feed_forward(self, input_arr):\n",
    "        "
   ]
  }
 ],
 "metadata": {
  "kernelspec": {
   "display_name": "Python 3",
   "language": "python",
   "name": "python3"
  },
  "language_info": {
   "codemirror_mode": {
    "name": "ipython",
    "version": 3
   },
   "file_extension": ".py",
   "mimetype": "text/x-python",
   "name": "python",
   "nbconvert_exporter": "python",
   "pygments_lexer": "ipython3",
   "version": "3.7.3"
  }
 },
 "nbformat": 4,
 "nbformat_minor": 2
}
