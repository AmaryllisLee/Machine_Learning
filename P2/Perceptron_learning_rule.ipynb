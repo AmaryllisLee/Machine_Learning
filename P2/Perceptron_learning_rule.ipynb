{
 "cells": [
  {
   "cell_type": "code",
   "execution_count": 1,
   "metadata": {},
   "outputs": [],
   "source": [
    "from perceptron import Perceptron, PerceptronLayer, PerceptonNetwork"
   ]
  },
  {
   "cell_type": "markdown",
   "metadata": {},
   "source": [
    "###  AND poort"
   ]
  },
  {
   "cell_type": "code",
   "execution_count": 2,
   "metadata": {},
   "outputs": [],
   "source": [
    "inputs_2 = ([\n",
    "[0, 0], \n",
    "[0, 1], \n",
    "[1, 0], \n",
    "[1, 1]])"
   ]
  },
  {
   "cell_type": "code",
   "execution_count": 3,
   "metadata": {},
   "outputs": [
    {
     "name": "stdout",
     "output_type": "stream",
     "text": [
      "Weights: [-0.5, 0.5]\n",
      "Biase/Threshold -1.5\n",
      "[-0.5, 0.5] -1.5\n",
      "[-0.6, 0.4] -1.6\n",
      "[-0.7, 0.30000000000000004] -1.7000000000000002\n",
      "[-0.7999999999999999, 0.20000000000000004] -1.8000000000000003\n"
     ]
    }
   ],
   "source": [
    "p2 = Perceptron([-0.5, 0.5], -1.5,0.1)\n",
    "print(p2)\n",
    "\n",
    "outputs_AND = [0,0,0,1]\n",
    "for i in range(len(inputs_2)):\n",
    "    print(p2.weights, p2.bias)\n",
    "    p2.update([1,1], 1)"
   ]
  },
  {
   "cell_type": "markdown",
   "metadata": {},
   "source": [
    "### XOR poort"
   ]
  },
  {
   "cell_type": "code",
   "execution_count": 4,
   "metadata": {},
   "outputs": [],
   "source": [
    "pNOR = Perceptron([-1, -1], 0)\n",
    "pAND = Perceptron([0.5, 0.5], -1)\n",
    "hiddenlayer = PerceptronLayer()\n",
    "hiddenlayer.n_perceptrons.append(pNOR)\n",
    "hiddenlayer.n_perceptrons.append(pAND)\n",
    "\n",
    "pOut = Perceptron([-.05, -.5], 0)\n",
    "outputlayer = PerceptronLayer()\n",
    "outputlayer.n_perceptrons.append(pOut)\n",
    "\n",
    "pn = PerceptonNetwork()\n",
    "pn.n_layers.append(hiddenlayer)\n",
    "pn.n_layers.append(outputlayer)"
   ]
  },
  {
   "cell_type": "code",
   "execution_count": 5,
   "metadata": {},
   "outputs": [
    {
     "name": "stdout",
     "output_type": "stream",
     "text": [
      "Input : [0, 0] Output [0]\n",
      "Input : [0, 1] Output [1]\n",
      "Input : [1, 0] Output [1]\n",
      "Input : [1, 1] Output [0]\n"
     ]
    }
   ],
   "source": [
    "outputs_XOR = [0,1,1,0]\n",
    "for i in range(len(inputs_2)):\n",
    "    print(\"Input : {} Output {}\".format(inputs_2[i], pn.feed_forward(inputs_2[i])))  "
   ]
  },
  {
   "cell_type": "markdown",
   "metadata": {},
   "source": [
    "### Perceptrons trainnen op de Iris dataset"
   ]
  },
  {
   "cell_type": "code",
   "execution_count": 11,
   "metadata": {},
   "outputs": [],
   "source": [
    "#from sklearn.datasets import load_iris\n",
    "import random"
   ]
  },
  {
   "cell_type": "code",
   "execution_count": 12,
   "metadata": {},
   "outputs": [],
   "source": [
    "random.seed(1735290)"
   ]
  },
  {
   "cell_type": "code",
   "execution_count": 22,
   "metadata": {},
   "outputs": [
    {
     "data": {
      "text/plain": [
       "[1.6106746487485024, 1.4254491606015884]"
      ]
     },
     "execution_count": 22,
     "metadata": {},
     "output_type": "execute_result"
    }
   ],
   "source": [
    "weights = [random.uniform(-2.0, 2.0)for i in range(2)]\n",
    "weights"
   ]
  },
  {
   "cell_type": "code",
   "execution_count": 26,
   "metadata": {},
   "outputs": [
    {
     "data": {
      "text/plain": [
       "[-0.983728418483957, 0.230047412798132]"
      ]
     },
     "execution_count": 26,
     "metadata": {},
     "output_type": "execute_result"
    }
   ],
   "source": [
    "weights_ = [random.uniform(-2.0, 2.0)for i in range(2)]\n",
    "weights_"
   ]
  },
  {
   "cell_type": "code",
   "execution_count": 30,
   "metadata": {},
   "outputs": [],
   "source": [
    "Setosa = Perceptron(weights, random.uniform(-2.0, 2.0),1000)\n",
    "Versicolour = Perceptron(weights_, random.uniform(-2.0, 2.0),1000)"
   ]
  },
  {
   "cell_type": "code",
   "execution_count": 31,
   "metadata": {},
   "outputs": [
    {
     "name": "stdout",
     "output_type": "stream",
     "text": [
      "Weights: [1.6106746487485024, 1.4254491606015884]\n",
      "Biase/Threshold 0.029239654916433988\n"
     ]
    }
   ],
   "source": [
    "#Setosa.update()\n",
    "print(Setosa)"
   ]
  },
  {
   "cell_type": "code",
   "execution_count": 32,
   "metadata": {},
   "outputs": [
    {
     "name": "stdout",
     "output_type": "stream",
     "text": [
      "Weights: [-0.983728418483957, 0.230047412798132]\n",
      "Biase/Threshold -1.2112346303005443\n"
     ]
    }
   ],
   "source": [
    "#Versicolour.update()\n",
    "print(Versicolour)"
   ]
  },
  {
   "cell_type": "code",
   "execution_count": null,
   "metadata": {},
   "outputs": [],
   "source": []
  }
 ],
 "metadata": {
  "kernelspec": {
   "display_name": "Python 3",
   "language": "python",
   "name": "python3"
  },
  "language_info": {
   "codemirror_mode": {
    "name": "ipython",
    "version": 3
   },
   "file_extension": ".py",
   "mimetype": "text/x-python",
   "name": "python",
   "nbconvert_exporter": "python",
   "pygments_lexer": "ipython3",
   "version": "3.9.1"
  }
 },
 "nbformat": 4,
 "nbformat_minor": 2
}
