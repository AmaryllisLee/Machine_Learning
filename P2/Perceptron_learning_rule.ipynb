{
 "cells": [
  {
   "cell_type": "code",
   "execution_count": 1,
   "metadata": {},
   "outputs": [],
   "source": [
    "from perceptron import Perceptron"
   ]
  },
  {
   "cell_type": "markdown",
   "metadata": {},
   "source": [
    "### Test voor AND poort"
   ]
  },
  {
   "cell_type": "code",
   "execution_count": 2,
   "metadata": {},
   "outputs": [],
   "source": [
    "inputs_2 = ([\n",
    "[0, 0], \n",
    "[0, 1], \n",
    "[1, 0], \n",
    "[1, 1]])"
   ]
  },
  {
   "cell_type": "code",
   "execution_count": 3,
   "metadata": {},
   "outputs": [
    {
     "name": "stdout",
     "output_type": "stream",
     "text": [
      "Weights: [1, 1]\n",
      "Biase/Threshold -2\n",
      "Input : [0, 0] Output 0\n",
      "Input : [0, 1] Output 0\n",
      "Input : [1, 0] Output 0\n",
      "Input : [1, 1] Output 1\n"
     ]
    }
   ],
   "source": [
    "p2 = Perceptron([1, 1], -2,0.1)\n",
    "print(p2)\n",
    "\n",
    "outputs_AND = [0,0,0,1]\n",
    "for i in range(len(inputs_2)):\n",
    "    print(\"Input : {} Output {}\".format(inputs_2[i], p2.get_output(inputs_2[i])))\n",
    "    #assert p2.calculate(inputs_2[i]) == outputs_AND[i]"
   ]
  },
  {
   "cell_type": "markdown",
   "metadata": {},
   "source": [
    "### Perceptrons trainnen op de Iris dataset"
   ]
  },
  {
   "cell_type": "code",
   "execution_count": null,
   "metadata": {},
   "outputs": [],
   "source": []
  }
 ],
 "metadata": {
  "kernelspec": {
   "display_name": "Python 3",
   "language": "python",
   "name": "python3"
  },
  "language_info": {
   "codemirror_mode": {
    "name": "ipython",
    "version": 3
   },
   "file_extension": ".py",
   "mimetype": "text/x-python",
   "name": "python",
   "nbconvert_exporter": "python",
   "pygments_lexer": "ipython3",
   "version": "3.8.1"
  }
 },
 "nbformat": 4,
 "nbformat_minor": 2
}
