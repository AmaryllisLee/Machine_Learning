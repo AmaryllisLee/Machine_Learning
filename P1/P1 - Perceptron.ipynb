{
 "cells": [
  {
   "cell_type": "markdown",
   "metadata": {},
   "source": [
    "# P1 - Perceptron\n",
    "Amaryllis Lee <br>\n",
    "Studentnummer: 1735290"
   ]
  },
  {
   "cell_type": "markdown",
   "metadata": {},
   "source": [
    "In deze opdracht zal eer een neurale network van perceptrons geimplementeerd."
   ]
  },
  {
   "cell_type": "markdown",
   "metadata": {},
   "source": [
    "Eerst word er een class *Perceptron* gemaakt met de classvariables *weights* and *bias*. <br>\n",
    "Vervolgens zal er twee functies/methods worden gedefinieerd *activation* en *_str_*(Perceptron af te drukken)."
   ]
  },
  {
   "cell_type": "markdown",
   "metadata": {},
   "source": [
    "## Test Perceptron                                                                                                                                                           "
   ]
  },
  {
   "cell_type": "code",
   "execution_count": 1,
   "metadata": {
    "scrolled": true
   },
   "outputs": [],
   "source": [
    "from perceptron import Perceptron, PerceptonLayer, PerceptonNetwork"
   ]
  },
  {
   "cell_type": "code",
   "execution_count": 2,
   "metadata": {},
   "outputs": [
    {
     "name": "stdout",
     "output_type": "stream",
     "text": [
      "NOT\n",
      "Weights: [-1]\n",
      "Biase/Threshold 0\n",
      "[1, 0]\n"
     ]
    }
   ],
   "source": [
    "input_1 = [[0],[1]]\n",
    "p1 = Perceptron(1, [-1], 0) # Invert\n",
    "print(\"NOT\")\n",
    "print(p1)\n",
    "print(p1.calculate(input_1))"
   ]
  },
  {
   "cell_type": "code",
   "execution_count": 3,
   "metadata": {},
   "outputs": [],
   "source": [
    "inputs_2 = ([\n",
    "[0, 0], \n",
    "[0, 1], \n",
    "[1, 0], \n",
    "[1, 1]])"
   ]
  },
  {
   "cell_type": "code",
   "execution_count": 4,
   "metadata": {},
   "outputs": [
    {
     "name": "stdout",
     "output_type": "stream",
     "text": [
      "AND\n",
      "Weights: [1, 1]\n",
      "Biase/Threshold -2\n",
      "[0, 0, 0, 1]\n"
     ]
    }
   ],
   "source": [
    "p2 = Perceptron(2, [1, 1], -2) # AND\n",
    "print(\"AND\")\n",
    "print(p2)\n",
    "print(p2.calculate(inputs_2))"
   ]
  },
  {
   "cell_type": "code",
   "execution_count": 5,
   "metadata": {},
   "outputs": [
    {
     "name": "stdout",
     "output_type": "stream",
     "text": [
      "OR\n",
      "Weights: [0.5, 0.5]\n",
      "Biase/Threshold -0.5\n",
      "[0, 1, 1, 1]\n"
     ]
    }
   ],
   "source": [
    "p3 = Perceptron(2, [0.5, 0.5], -0.5)\n",
    "print(\"OR\")\n",
    "print(p3)\n",
    "print(p3.calculate(inputs_2))"
   ]
  },
  {
   "cell_type": "code",
   "execution_count": 6,
   "metadata": {},
   "outputs": [],
   "source": [
    "inputs_3 = [[0,0,0], \n",
    "      [0,0,1], \n",
    "      [0,1,0],\n",
    "      [1,0,0],\n",
    "      [0,1,1],\n",
    "      [1,0,1],\n",
    "      [1,1,0],\n",
    "      [1,1,1]]"
   ]
  },
  {
   "cell_type": "code",
   "execution_count": 7,
   "metadata": {},
   "outputs": [
    {
     "name": "stdout",
     "output_type": "stream",
     "text": [
      "NOR\n",
      "Weights: [-1, -1, -1]\n",
      "Biase/Threshold 0\n",
      "[1, 0, 0, 0, 0, 0, 0, 0]\n"
     ]
    }
   ],
   "source": [
    "p4 = Perceptron(3, [-1, -1, -1], 0) # NOR\n",
    "print(\"NOR\")\n",
    "print(p4)\n",
    "print(p4.calculate(inputs_3))"
   ]
  },
  {
   "cell_type": "code",
   "execution_count": 8,
   "metadata": {},
   "outputs": [
    {
     "name": "stdout",
     "output_type": "stream",
     "text": [
      "uitgebreider beslissysteem \n",
      "Weights: [0.6, 0.3, 0.2]\n",
      "Biase/Threshold -0.4\n",
      "[0, 0, 0, 1, 1, 1, 1, 1]\n"
     ]
    }
   ],
   "source": [
    "p5 = Perceptron(3, [0.6, 0.3, 0.2], -0.4) # VB Figuur 2.8 uit reader \n",
    "print(\"uitgebreider beslissysteem \")\n",
    "print(p5)\n",
    "print(p5.calculate(inputs_3))"
   ]
  },
  {
   "cell_type": "markdown",
   "metadata": {},
   "source": [
    "## Perceptron netwerk \n",
    "Implementeren/programmeren van een multilayer feed forward network"
   ]
  },
  {
   "cell_type": "markdown",
   "metadata": {},
   "source": [
    "Example of and XOR"
   ]
  },
  {
   "cell_type": "code",
   "execution_count": 9,
   "metadata": {},
   "outputs": [],
   "source": [
    "pNOR = Perceptron(2, [-1, -1], 0)\n",
    "pAND = Perceptron(2, [0.5, 0.5], -1)\n",
    "pAND\n",
    "hiddenlayer = PerceptonLayer()\n",
    "hiddenlayer.SetPerceptrons(pNOR)\n",
    "hiddenlayer.SetPerceptrons(pAND)"
   ]
  },
  {
   "cell_type": "code",
   "execution_count": 10,
   "metadata": {},
   "outputs": [],
   "source": [
    "pOut = Perceptron(2, [-.05, -.5], 0)\n",
    "outputlayer = PerceptonLayer()\n",
    "outputlayer.SetPerceptrons(pOut)"
   ]
  },
  {
   "cell_type": "code",
   "execution_count": 11,
   "metadata": {},
   "outputs": [],
   "source": [
    "pn = PerceptonNetwork()\n",
    "pn.setLayer(hiddenlayer)\n",
    "pn.setLayer(outputlayer)"
   ]
  },
  {
   "cell_type": "code",
   "execution_count": 12,
   "metadata": {},
   "outputs": [
    {
     "data": {
      "text/plain": [
       "[[0], [1], [1], [0]]"
      ]
     },
     "execution_count": 12,
     "metadata": {},
     "output_type": "execute_result"
    }
   ],
   "source": [
    "pn.feed_forward(inputs_2)"
   ]
  },
  {
   "cell_type": "markdown",
   "metadata": {},
   "source": [
    "Example of an half adder\n",
    "The foloowing logical gates for this neural network of the half adder are : AND en XOR(NOR, AND)"
   ]
  },
  {
   "cell_type": "code",
   "execution_count": 29,
   "metadata": {},
   "outputs": [],
   "source": [
    "p1_ = Perceptron(2, [1, 1], -1)\n",
    "p2_ = Perceptron(2, [-1, -1], 1.5)\n",
    "p3_ = Perceptron(2, [1, 1], -2)"
   ]
  },
  {
   "cell_type": "code",
   "execution_count": 30,
   "metadata": {},
   "outputs": [],
   "source": [
    "hiddenlayer_ =PerceptonLayer()\n",
    "hiddenlayer_.SetPerceptrons(p1_)\n",
    "hiddenlayer_.SetPerceptrons(p2_)\n",
    "hiddenlayer_.SetPerceptrons(p3_)"
   ]
  },
  {
   "cell_type": "code",
   "execution_count": 31,
   "metadata": {},
   "outputs": [],
   "source": [
    "psum = Perceptron(3, [1, 1,0], -2)\n",
    "pcarry= Perceptron(3, [0, 0, 1], -1)"
   ]
  },
  {
   "cell_type": "code",
   "execution_count": 32,
   "metadata": {},
   "outputs": [],
   "source": [
    "outputlayer_= PerceptonLayer()\n",
    "outputlayer_.SetPerceptrons(psum)\n",
    "outputlayer_.SetPerceptrons(pcarry)"
   ]
  },
  {
   "cell_type": "code",
   "execution_count": 33,
   "metadata": {},
   "outputs": [],
   "source": [
    "pn_ = PerceptonNetwork()\n",
    "pn_.setLayer(hiddenlayer_)\n",
    "pn_.setLayer(outputlayer_)"
   ]
  },
  {
   "cell_type": "code",
   "execution_count": 36,
   "metadata": {},
   "outputs": [],
   "source": [
    "output = pn_.feed_forward(inputs_2)"
   ]
  },
  {
   "cell_type": "code",
   "execution_count": 37,
   "metadata": {},
   "outputs": [
    {
     "name": "stdout",
     "output_type": "stream",
     "text": [
      "[0, 0]\n",
      "[1, 0]\n",
      "[1, 0]\n",
      "[0, 1]\n"
     ]
    }
   ],
   "source": [
    "for i in output:\n",
    "    print(i)"
   ]
  }
 ],
 "metadata": {
  "kernelspec": {
   "display_name": "Python 3",
   "language": "python",
   "name": "python3"
  },
  "language_info": {
   "codemirror_mode": {
    "name": "ipython",
    "version": 3
   },
   "file_extension": ".py",
   "mimetype": "text/x-python",
   "name": "python",
   "nbconvert_exporter": "python",
   "pygments_lexer": "ipython3",
   "version": "3.7.3"
  }
 },
 "nbformat": 4,
 "nbformat_minor": 2
}
