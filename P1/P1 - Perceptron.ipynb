{
 "cells": [
  {
   "cell_type": "markdown",
   "metadata": {},
   "source": [
    "# P1 - Perceptron\n",
    "Amaryllis Lee <br>\n",
    "Studentnummer: 1735290"
   ]
  },
  {
   "cell_type": "markdown",
   "metadata": {},
   "source": [
    "In deze opdracht zal eer een neurale network van perceptrons geimplementeerd."
   ]
  },
  {
   "cell_type": "markdown",
   "metadata": {},
   "source": [
    "Eerst word er een class *Perceptron* gemaakt met de classvariables *weights* and *bias*. <br>\n",
    "Vervolgens zal er twee functies/methods worden gedefinieerd *activation* en *_str_*(Perceptron af te drukken)."
   ]
  },
  {
   "cell_type": "markdown",
   "metadata": {},
   "source": [
    "## Test Perceptron                                                                                                                                                           "
   ]
  },
  {
   "cell_type": "code",
   "execution_count": 1,
   "metadata": {
    "scrolled": true
   },
   "outputs": [],
   "source": [
    "from perceptron import Perceptron, PerceptonLayer, PerceptonNetwork"
   ]
  },
  {
   "cell_type": "code",
   "execution_count": 2,
   "metadata": {},
   "outputs": [
    {
     "name": "stdout",
     "output_type": "stream",
     "text": [
      "NOT\n",
      "Weights: [-1]\n",
      "Biase/Threshold 0\n",
      "Input : 0 Output 1\n",
      "Input : 1 Output 0\n"
     ]
    }
   ],
   "source": [
    "input_1 = [0]\n",
    "p1 = Perceptron([-1], 0) # Invert\n",
    "print(\"NOT\")\n",
    "print(p1)\n",
    "\n",
    "\n",
    "print(\"Input : {} Output {}\".format(input_1[0], p1.calculate([0])))\n",
    "assert p1.calculate([0]) == 1\n",
    "print(\"Input : {} Output {}\".format(1, p1.calculate([1])))\n",
    "assert p1.calculate([1]) == 0 "
   ]
  },
  {
   "cell_type": "code",
   "execution_count": 3,
   "metadata": {},
   "outputs": [],
   "source": [
    "inputs_2 = ([\n",
    "[0, 0], \n",
    "[0, 1], \n",
    "[1, 0], \n",
    "[1, 1]])"
   ]
  },
  {
   "cell_type": "code",
   "execution_count": 4,
   "metadata": {},
   "outputs": [
    {
     "name": "stdout",
     "output_type": "stream",
     "text": [
      "AND\n",
      "Weights: [1, 1]\n",
      "Biase/Threshold -2\n",
      "Input : [0, 0] Output 0\n",
      "Input : [0, 1] Output 0\n",
      "Input : [1, 0] Output 0\n",
      "Input : [1, 1] Output 1\n"
     ]
    }
   ],
   "source": [
    "p2 = Perceptron([1, 1], -2) # AND\n",
    "print(\"AND\")\n",
    "print(p2)\n",
    "\n",
    "outputs_AND = [0,0,0,1]\n",
    "for i in range(len(inputs_2)):\n",
    "    print(\"Input : {} Output {}\".format(inputs_2[i], p2.calculate(inputs_2[i])))\n",
    "    assert p2.calculate(inputs_2[i]) == outputs_AND[i]"
   ]
  },
  {
   "cell_type": "code",
   "execution_count": 5,
   "metadata": {},
   "outputs": [
    {
     "name": "stdout",
     "output_type": "stream",
     "text": [
      "OR\n",
      "Weights: [0.5, 0.5]\n",
      "Biase/Threshold -0.5\n",
      "Input : [0, 0] Output 0\n",
      "Input : [0, 1] Output 1\n",
      "Input : [1, 0] Output 1\n",
      "Input : [1, 1] Output 1\n"
     ]
    }
   ],
   "source": [
    "p3 = Perceptron([0.5, 0.5], -0.5)\n",
    "print(\"OR\")\n",
    "print(p3)\n",
    "\n",
    "outputs_OR = [0,1,1,1]\n",
    "for i in range(len(inputs_2)):\n",
    "    print(\"Input : {} Output {}\".format(inputs_2[i], p3.calculate(inputs_2[i])))\n",
    "    assert p3.calculate(inputs_2[i]) == outputs_OR[i]"
   ]
  },
  {
   "cell_type": "code",
   "execution_count": 6,
   "metadata": {},
   "outputs": [],
   "source": [
    "inputs_3 = [[0,0,0], \n",
    "      [0,0,1], \n",
    "      [0,1,0],\n",
    "      [1,0,0],\n",
    "      [0,1,1],\n",
    "      [1,0,1],\n",
    "      [1,1,0],\n",
    "      [1,1,1]]"
   ]
  },
  {
   "cell_type": "code",
   "execution_count": 7,
   "metadata": {},
   "outputs": [
    {
     "name": "stdout",
     "output_type": "stream",
     "text": [
      "NOR\n",
      "Weights: [-1, -1, -1]\n",
      "Biase/Threshold 0\n",
      "Input : [0, 0, 0] Output 1\n",
      "Input : [0, 0, 1] Output 0\n",
      "Input : [0, 1, 0] Output 0\n",
      "Input : [1, 0, 0] Output 0\n",
      "Input : [0, 1, 1] Output 0\n",
      "Input : [1, 0, 1] Output 0\n",
      "Input : [1, 1, 0] Output 0\n",
      "Input : [1, 1, 1] Output 0\n"
     ]
    }
   ],
   "source": [
    "p4 = Perceptron([-1, -1, -1], 0) # NOR\n",
    "print(\"NOR\")\n",
    "print(p4)\n",
    "\n",
    "outputs_NOR = [1,0,0,0,0,0,0,0]\n",
    "for i in range(len(inputs_3)):\n",
    "    print(\"Input : {} Output {}\".format(inputs_3[i], p4.calculate(inputs_3[i])))\n",
    "    assert p4.calculate(inputs_3[i]) == outputs_NOR[i]"
   ]
  },
  {
   "cell_type": "code",
   "execution_count": 8,
   "metadata": {},
   "outputs": [
    {
     "name": "stdout",
     "output_type": "stream",
     "text": [
      "uitgebreider beslissysteem \n",
      "Weights: [0.6, 0.3, 0.2]\n",
      "Biase/Threshold -0.4\n",
      "Input : [0, 0, 0] Output 0\n",
      "Input : [0, 0, 1] Output 0\n",
      "Input : [0, 1, 0] Output 0\n",
      "Input : [1, 0, 0] Output 1\n",
      "Input : [0, 1, 1] Output 1\n",
      "Input : [1, 0, 1] Output 1\n",
      "Input : [1, 1, 0] Output 1\n",
      "Input : [1, 1, 1] Output 1\n"
     ]
    }
   ],
   "source": [
    "p5 = Perceptron([0.6, 0.3, 0.2], -0.4) # VB Figuur 2.8 uit reader \n",
    "print(\"uitgebreider beslissysteem \")\n",
    "print(p5)\n",
    "\n",
    "outputs_2_8 = [0,0,0,1,1,1,1,1]\n",
    "for i in range(len(inputs_3)):\n",
    "    print(\"Input : {} Output {}\".format(inputs_3[i], p5.calculate(inputs_3[i])))\n",
    "    assert p5.calculate(inputs_3[i]) == outputs_2_8[i]"
   ]
  },
  {
   "cell_type": "markdown",
   "metadata": {},
   "source": [
    "## Perceptron netwerk \n",
    "Implementeren/programmeren van een multilayer feed forward network"
   ]
  },
  {
   "cell_type": "markdown",
   "metadata": {},
   "source": [
    "Example of and XOR"
   ]
  },
  {
   "cell_type": "code",
   "execution_count": 9,
   "metadata": {},
   "outputs": [],
   "source": [
    "pNOR = Perceptron([-1, -1], 0)\n",
    "pAND = Perceptron([0.5, 0.5], -1)\n",
    "pAND\n",
    "hiddenlayer = PerceptonLayer()\n",
    "hiddenlayer.SetPerceptrons(pNOR)\n",
    "hiddenlayer.SetPerceptrons(pAND)"
   ]
  },
  {
   "cell_type": "code",
   "execution_count": 10,
   "metadata": {},
   "outputs": [],
   "source": [
    "pOut = Perceptron([-.05, -.5], 0)\n",
    "outputlayer = PerceptonLayer()\n",
    "outputlayer.SetPerceptrons(pOut)"
   ]
  },
  {
   "cell_type": "code",
   "execution_count": 11,
   "metadata": {},
   "outputs": [],
   "source": [
    "pn = PerceptonNetwork()\n",
    "pn.setLayer(hiddenlayer)\n",
    "pn.setLayer(outputlayer)"
   ]
  },
  {
   "cell_type": "code",
   "execution_count": 12,
   "metadata": {},
   "outputs": [
    {
     "name": "stdout",
     "output_type": "stream",
     "text": [
      "Input : [0, 0] Output [0]\n",
      "Input : [0, 1] Output [1]\n",
      "Input : [1, 0] Output [1]\n",
      "Input : [1, 1] Output [0]\n"
     ]
    }
   ],
   "source": [
    "outputs_XOR = [0,1,1,0]\n",
    "for i in range(len(inputs_2)):\n",
    "    print(\"Input : {} Output {}\".format(inputs_2[i], pn.feed_forward(inputs_2[i])))  \n",
    "    assert pn.feed_forward(inputs_2[i])[0] == outputs_XOR[i] # integration test: check if the outcome is correct."
   ]
  },
  {
   "cell_type": "markdown",
   "metadata": {},
   "source": [
    "Example of an half adder\n",
    "The foloowing logical gates for this neural network of the half adder are : AND en XOR(NOR, AND)"
   ]
  },
  {
   "cell_type": "code",
   "execution_count": 13,
   "metadata": {},
   "outputs": [],
   "source": [
    "p1_ = Perceptron([1, 1], -1)\n",
    "p2_ = Perceptron([-1, -1], 1.5)\n",
    "p3_ = Perceptron([1, 1], -2)"
   ]
  },
  {
   "cell_type": "code",
   "execution_count": 14,
   "metadata": {},
   "outputs": [],
   "source": [
    "hiddenlayer_ =PerceptonLayer()\n",
    "hiddenlayer_.SetPerceptrons(p1_)\n",
    "hiddenlayer_.SetPerceptrons(p2_)\n",
    "hiddenlayer_.SetPerceptrons(p3_)"
   ]
  },
  {
   "cell_type": "code",
   "execution_count": 15,
   "metadata": {},
   "outputs": [],
   "source": [
    "psum = Perceptron([1, 1,0], -2)\n",
    "pcarry= Perceptron([0, 0, 1], -1)"
   ]
  },
  {
   "cell_type": "code",
   "execution_count": 16,
   "metadata": {},
   "outputs": [],
   "source": [
    "outputlayer_= PerceptonLayer()\n",
    "outputlayer_.SetPerceptrons(psum)\n",
    "outputlayer_.SetPerceptrons(pcarry)"
   ]
  },
  {
   "cell_type": "code",
   "execution_count": 17,
   "metadata": {},
   "outputs": [],
   "source": [
    "pn_ = PerceptonNetwork()\n",
    "pn_.setLayer(hiddenlayer_)\n",
    "pn_.setLayer(outputlayer_)"
   ]
  },
  {
   "cell_type": "code",
   "execution_count": 18,
   "metadata": {},
   "outputs": [
    {
     "name": "stdout",
     "output_type": "stream",
     "text": [
      "Input : [0, 0] Output [0, 0]\n",
      "Input : [0, 1] Output [1, 0]\n",
      "Input : [1, 0] Output [1, 0]\n",
      "Input : [1, 1] Output [0, 1]\n"
     ]
    }
   ],
   "source": [
    "actual_outputs = [[0,0], [1,0], [1,0],[0,1]]\n",
    "for i in range(len(inputs_2)): \n",
    "    print(\"Input : {} Output {}\".format(inputs_2[i], pn_.feed_forward(inputs_2[i])))\n",
    "    assert pn_.feed_forward(inputs_2[i]) == actual_outputs[i] # integration test: check if the outcome is correct."
   ]
  },
  {
   "cell_type": "code",
   "execution_count": null,
   "metadata": {},
   "outputs": [],
   "source": []
  }
 ],
 "metadata": {
  "kernelspec": {
   "display_name": "Python 3",
   "language": "python",
   "name": "python3"
  },
  "language_info": {
   "codemirror_mode": {
    "name": "ipython",
    "version": 3
   },
   "file_extension": ".py",
   "mimetype": "text/x-python",
   "name": "python",
   "nbconvert_exporter": "python",
   "pygments_lexer": "ipython3",
   "version": "3.7.3"
  }
 },
 "nbformat": 4,
 "nbformat_minor": 2
}
