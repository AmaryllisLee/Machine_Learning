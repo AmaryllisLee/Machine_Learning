{
 "cells": [
  {
   "cell_type": "code",
   "execution_count": null,
   "metadata": {
    "id": "4ecKUt0rGUS8"
   },
   "outputs": [],
   "source": [
    "from sklearn.datasets import load_iris\n",
    "import pandas   as   pd\n",
    "from sklearn.model_selection import train_test_split"
   ]
  },
  {
   "cell_type": "code",
   "execution_count": null,
   "metadata": {
    "id": "FfY_ffcFGUTD"
   },
   "outputs": [],
   "source": [
    "iris = load_iris()"
   ]
  },
  {
   "cell_type": "code",
   "execution_count": null,
   "metadata": {
    "colab": {
     "base_uri": "https://localhost:8080/"
    },
    "id": "4YrLnGkHGsAA",
    "outputId": "ad8f8cbc-7d44-4049-f2b4-d9489cdf35e3"
   },
   "outputs": [],
   "source": [
    "iris"
   ]
  },
  {
   "cell_type": "markdown",
   "metadata": {
    "id": "Az9FV4efHbLm"
   },
   "source": [
    "First things first, the dataset has te be divided into feat( x ) and our target\n",
    "The target of  the iris dataset is an array of integers 0, 1, 2. In order to use our Neural network,  our targets have to be a 0 or a 1. I will be pd.get_dummies to encode the target into values of 0   and 1"
   ]
  },
  {
   "cell_type": "code",
   "execution_count": null,
   "metadata": {
    "colab": {
     "base_uri": "https://localhost:8080/"
    },
    "id": "OUam_UN8JB3m",
    "outputId": "738d5f27-81d0-4403-87a8-173dfdc81ead"
   },
   "outputs": [],
   "source": [
    "x = iris.target\n",
    "y = pd.get_dummies(iris.target)\n",
    "type(x)"
   ]
  },
  {
   "cell_type": "code",
   "execution_count": null,
   "metadata": {
    "id": "D1OBx1BBHB3e"
   },
   "outputs": [],
   "source": [
    "x_train,  x_test, y_train, y_test = train_test_split(x, y)"
   ]
  },
  {
   "cell_type": "markdown",
   "metadata": {
    "id": "zyEOVy99K7Y_"
   },
   "source": [
    "Now, we have to create our Nueral Network. I am going to implement a simple Neuron Network of 1 layer that consist of 3 neuron. for this implementation, i wil be using the sigmoid for the activation function. I wil  be generating random numberbetween -1  and 1 for the weights.The bias wil be set to  0"
   ]
  },
  {
   "cell_type": "code",
   "execution_count": null,
   "metadata": {
    "id": "YvvCWjZFIDIp"
   },
   "outputs": [],
   "source": [
    "import random\n",
    "from neuron import *"
   ]
  },
  {
   "cell_type": "code",
   "execution_count": null,
   "metadata": {
    "id": "gwS7vGuAH53A"
   },
   "outputs": [],
   "source": [
    "random.seed(1735290)"
   ]
  },
  {
   "cell_type": "code",
   "execution_count": null,
   "metadata": {
    "id": "Q6rB0j_2KRDK"
   },
   "outputs": [],
   "source": [
    "n1 = OutputNeuron([random.uniform(-1,  1), random.uniform(-1,  1), random.uniform(-1,  1)], 0)\n",
    "n2 = OutputNeuron([random.uniform(-1,  1), random.uniform(-1,  1), random.uniform(-1,  1)], 0)\n",
    "n3 = OutputNeuron([random.uniform(-1,  1), random.uniform(-1,  1), random.uniform(-1,  1)], 0)\n",
    "\n",
    "layer= OutputLayer()\n",
    "layer.n_neurons.extends([n1, n2,  n3])\n",
    "\n",
    "nn=   NeuronNetwork()\n",
    "nn.n_layers.append(layer)"
   ]
  },
  {
   "cell_type": "code",
   "execution_count": null,
   "metadata": {
    "id": "hbX6FcobOTxz"
   },
   "outputs": [],
   "source": [
    "#train network \n",
    "nn.train(x_train, y_target)"
   ]
  }
 ],
 "metadata": {
  "colab": {
   "name": "Testen_dataset.ipynb",
   "provenance": []
  },
  "kernelspec": {
   "display_name": "Python 3",
   "language": "python",
   "name": "python3"
  },
  "language_info": {
   "codemirror_mode": {
    "name": "ipython",
    "version": 3
   },
   "file_extension": ".py",
   "mimetype": "text/x-python",
   "name": "python",
   "nbconvert_exporter": "python",
   "pygments_lexer": "ipython3",
   "version": "3.8.1"
  }
 },
 "nbformat": 4,
 "nbformat_minor": 1
}
