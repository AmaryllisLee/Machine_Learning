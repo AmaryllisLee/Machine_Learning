{
 "cells": [
  {
   "cell_type": "code",
   "execution_count": 1,
   "metadata": {},
   "outputs": [],
   "source": [
    "from neuron import Neuron, NeuronLayer, NeuronNetwork"
   ]
  },
  {
   "cell_type": "markdown",
   "metadata": {},
   "source": [
    "### Test van een INVERT poort"
   ]
  },
  {
   "cell_type": "code",
   "execution_count": 2,
   "metadata": {},
   "outputs": [
    {
     "name": "stdout",
     "output_type": "stream",
     "text": [
      "NOT\n",
      "Weights: [-1]\n",
      "Biase/Threshold 0\n",
      "Input : 0 Output 0.5\n",
      "Input : 1 Output 0.26894155362156696\n"
     ]
    }
   ],
   "source": [
    "input_1 = [0]\n",
    "p1 = Neuron([-1], 0) # Invert\n",
    "print(\"NOT\")\n",
    "print(p1)\n",
    "\n",
    "print(\"Input : {} Output {}\".format(input_1[0], p1.calculate_output([0])))\n",
    "# assert p1.calculate([0]) == 1\n",
    "print(\"Input : {} Output {}\".format(1, p1.calculate_output([1])))\n",
    "# assert p1.calculate([1]) == 0 "
   ]
  },
  {
   "cell_type": "code",
   "execution_count": 3,
   "metadata": {},
   "outputs": [],
   "source": [
    "inputs_2 = ([\n",
    "[0, 0], \n",
    "[0, 1], \n",
    "[1, 0], \n",
    "[1, 1]])"
   ]
  },
  {
   "cell_type": "markdown",
   "metadata": {},
   "source": [
    "### Test van een AND poort"
   ]
  },
  {
   "cell_type": "code",
   "execution_count": 4,
   "metadata": {},
   "outputs": [
    {
     "name": "stdout",
     "output_type": "stream",
     "text": [
      "Weights: [1, 1]\n",
      "Biase/Threshold -2\n",
      "Input : [0, 0] Output 0.5\n",
      "Input : [0, 1] Output 0.731058446378433\n",
      "Input : [1, 0] Output 0.731058446378433\n",
      "Input : [1, 1] Output 0.880796936729369\n"
     ]
    }
   ],
   "source": [
    "p2 = Neuron([1, 1], -2)\n",
    "print(p2)\n",
    "\n",
    "outputs_AND = [0,0,0,1]\n",
    "#print output\n",
    "for i in range(len(inputs_2)):\n",
    "    print(\"Input : {} Output {}\".format(inputs_2[i], p2.calculate_output(inputs_2[i])))\n",
    "#     assert p2.calculate_output(inputs_2[i]) == outputs_AND[i]"
   ]
  },
  {
   "cell_type": "markdown",
   "metadata": {},
   "source": [
    "### Test van een OR poort"
   ]
  },
  {
   "cell_type": "code",
   "execution_count": 5,
   "metadata": {},
   "outputs": [
    {
     "name": "stdout",
     "output_type": "stream",
     "text": [
      "Weights: [0.5, 0.5]\n",
      "Biase/Threshold -0.5\n",
      "Input : [0, 0] Output 0.5\n",
      "Input : [0, 1] Output 0.6224592521639084\n",
      "Input : [1, 0] Output 0.6224592521639084\n",
      "Input : [1, 1] Output 0.731058446378433\n"
     ]
    }
   ],
   "source": [
    "p3 = Neuron([0.5, 0.5], -0.5)\n",
    "print(p3)\n",
    "\n",
    "outputs_OR = [0,1,1,1]\n",
    "for i in range(len(inputs_2)):\n",
    "    print(\"Input : {} Output {}\".format(inputs_2[i], p3.calculate_output(inputs_2[i])))\n",
    "#     assert p3.calculate_output(inputs_2[i]) == outputs_OR[i]"
   ]
  },
  {
   "cell_type": "markdown",
   "metadata": {},
   "source": [
    "### Test van een NOR poort"
   ]
  },
  {
   "cell_type": "code",
   "execution_count": 6,
   "metadata": {},
   "outputs": [],
   "source": [
    "inputs_3 = [[0,0,0], \n",
    "      [0,0,1], \n",
    "      [0,1,0],\n",
    "      [1,0,0],\n",
    "      [0,1,1],\n",
    "      [1,0,1],\n",
    "      [1,1,0],\n",
    "      [1,1,1]]"
   ]
  },
  {
   "cell_type": "code",
   "execution_count": 7,
   "metadata": {},
   "outputs": [
    {
     "name": "stdout",
     "output_type": "stream",
     "text": [
      "Weights: [-1, -1, -1]\n",
      "Biase/Threshold 0\n",
      "Input : [0, 0, 0] Output 0.5\n",
      "Input : [0, 0, 1] Output 0.26894155362156696\n",
      "Input : [0, 1, 0] Output 0.26894155362156696\n",
      "Input : [1, 0, 0] Output 0.26894155362156696\n",
      "Input : [0, 1, 1] Output 0.11920306327063111\n",
      "Input : [1, 0, 1] Output 0.11920306327063111\n",
      "Input : [1, 1, 0] Output 0.11920306327063111\n",
      "Input : [1, 1, 1] Output 0.04742596434225891\n"
     ]
    }
   ],
   "source": [
    "p4 = Neuron([-1, -1, -1], 0) # NOR\n",
    "print(p4)\n",
    "\n",
    "outputs_NOR = [1,0,0,0,0,0,0,0]\n",
    "for i in range(len(inputs_3)):\n",
    "    print(\"Input : {} Output {}\".format(inputs_3[i], p4.calculate_output(inputs_3[i])))\n",
    "#     assert p4.calculate(inputs_3[i]) == outputs_NOR[i]"
   ]
  },
  {
   "cell_type": "code",
   "execution_count": 8,
   "metadata": {},
   "outputs": [],
   "source": [
    "#TODO vind een betere test"
   ]
  },
  {
   "cell_type": "markdown",
   "metadata": {},
   "source": [
    "## Neuron Network "
   ]
  },
  {
   "cell_type": "code",
   "execution_count": 9,
   "metadata": {},
   "outputs": [],
   "source": [
    "p1_ = Neuron([1, 1], -1)\n",
    "p2_ = Neuron([-1, -1], 1.5)\n",
    "p3_ = Neuron([1, 1], -2)"
   ]
  },
  {
   "cell_type": "code",
   "execution_count": 10,
   "metadata": {},
   "outputs": [],
   "source": [
    "hiddenlayer_ =NeuronLayer()\n",
    "hiddenlayer_.n_neurons.append(p1_)\n",
    "hiddenlayer_.n_neurons.append(p2_)\n",
    "hiddenlayer_.n_neurons.append(p3_)"
   ]
  },
  {
   "cell_type": "code",
   "execution_count": 11,
   "metadata": {},
   "outputs": [
    {
     "name": "stdout",
     "output_type": "stream",
     "text": [
      "Size of layer is 3 perceptrons\n"
     ]
    }
   ],
   "source": [
    "print(hiddenlayer_)"
   ]
  },
  {
   "cell_type": "code",
   "execution_count": 12,
   "metadata": {
    "scrolled": true
   },
   "outputs": [],
   "source": [
    "psum = Neuron([1, 1,0], -2)\n",
    "pcarry= Neuron([0, 0, 1], -1)"
   ]
  },
  {
   "cell_type": "code",
   "execution_count": 13,
   "metadata": {},
   "outputs": [],
   "source": [
    "outputlayer_= NeuronLayer()\n",
    "outputlayer_.n_neurons.append(psum)\n",
    "outputlayer_.n_neurons.append(pcarry)"
   ]
  },
  {
   "cell_type": "code",
   "execution_count": 14,
   "metadata": {},
   "outputs": [
    {
     "name": "stdout",
     "output_type": "stream",
     "text": [
      "Size of layer is 2 perceptrons\n"
     ]
    }
   ],
   "source": [
    "# print layer\n",
    "print(outputlayer_)"
   ]
  },
  {
   "cell_type": "code",
   "execution_count": 16,
   "metadata": {},
   "outputs": [],
   "source": [
    "pn_ = NeuronNetwork()\n",
    "pn_.n_layers.append(hiddenlayer_)\n",
    "pn_.n_layers.append(outputlayer_)"
   ]
  },
  {
   "cell_type": "code",
   "execution_count": 17,
   "metadata": {},
   "outputs": [
    {
     "name": "stdout",
     "output_type": "stream",
     "text": [
      "Input : [0, 0] Output [0.731058446378433, 0.6224592521639084]\n",
      "Input : [0, 1] Output [0.731058446378433, 0.6750373904950007]\n",
      "Input : [1, 0] Output [0.731058446378433, 0.6750373904950007]\n",
      "Input : [1, 1] Output [0.731058446378433, 0.706987216005627]\n"
     ]
    }
   ],
   "source": [
    "actual_outputs = [[0,0], [1,0], [1,0],[0,1]]\n",
    "for i in range(len(inputs_2)): \n",
    "    print(\"Input : {} Output {}\".format(inputs_2[i], pn_.feed_forward(inputs_2[i])))\n",
    "    #assert pn_.feed_forward(inputs_2[i]) == actual_outputs[i] # integration test: check if the outcome is correct."
   ]
  },
  {
   "cell_type": "code",
   "execution_count": 18,
   "metadata": {},
   "outputs": [],
   "source": [
    "# vragen:\n",
    "# Moet ik de str () veranderen?\n",
    "# Moet ik de parameters veranderen om de outputs zoveel nogelijk naar 0 en 1 te zetten?\n",
    "# Wanner moet ik de error gebruiken ?"
   ]
  },
  {
   "cell_type": "code",
   "execution_count": null,
   "metadata": {},
   "outputs": [],
   "source": []
  }
 ],
 "metadata": {
  "kernelspec": {
   "display_name": "Python 3",
   "language": "python",
   "name": "python3"
  },
  "language_info": {
   "codemirror_mode": {
    "name": "ipython",
    "version": 3
   },
   "file_extension": ".py",
   "mimetype": "text/x-python",
   "name": "python",
   "nbconvert_exporter": "python",
   "pygments_lexer": "ipython3",
   "version": "3.8.1"
  }
 },
 "nbformat": 4,
 "nbformat_minor": 4
}
