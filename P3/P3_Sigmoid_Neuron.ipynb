{
 "cells": [
  {
   "cell_type": "code",
   "execution_count": 1,
   "metadata": {},
   "outputs": [],
   "source": [
    "from neuron import Neuron, NeuronLayer, NeuronNetwork"
   ]
  },
  {
   "cell_type": "markdown",
   "metadata": {},
   "source": [
    "In deze notebook worden de gemaakt Neuron en de NeuronNetwerk class getest op verschillende poorten."
   ]
  },
  {
   "cell_type": "markdown",
   "metadata": {},
   "source": [
    "### Test van een INVERT poort"
   ]
  },
  {
   "cell_type": "code",
   "execution_count": 2,
   "metadata": {},
   "outputs": [
    {
     "name": "stdout",
     "output_type": "stream",
     "text": [
      "NOT\n",
      "Weights: [-1]\n",
      "Biase/Threshold 0\n",
      "Input : 0 Output 0.5\n",
      "Input : 1 Output 0.26894155362156696\n"
     ]
    }
   ],
   "source": [
    "input_1 = [0]\n",
    "p1 = Neuron([-1], 0) # Invert\n",
    "print(\"NOT\")\n",
    "print(p1)\n",
    "\n",
    "print(\"Input : {} Output {}\".format(input_1[0], p1.calculate_output([0])))\n",
    "# assert p1.calculate([0]) == 1\n",
    "print(\"Input : {} Output {}\".format(1, p1.calculate_output([1])))\n",
    "# assert p1.calculate([1]) == 0 "
   ]
  },
  {
   "cell_type": "markdown",
   "metadata": {},
   "source": [
    "De waardes komen niet dichter bij de verwachte output. De weight zal verlaagd worden en de bias verhogen."
   ]
  },
  {
   "cell_type": "code",
   "execution_count": 3,
   "metadata": {},
   "outputs": [
    {
     "name": "stdout",
     "output_type": "stream",
     "text": [
      "NOT\n",
      "Weights: [-1]\n",
      "Biase/Threshold 0\n",
      "Input : 0 Output 0.952574035657741\n",
      "Input : 1 Output 0.0009110554802499726\n"
     ]
    }
   ],
   "source": [
    "input_1 = [0]\n",
    "p1_ = Neuron([-10], 3) # Invert\n",
    "print(\"NOT\")\n",
    "print(p1)\n",
    "\n",
    "print(\"Input : {} Output {}\".format(input_1[0], p1_.calculate_output([0])))\n",
    "# assert p1.calculate([0]) == 1\n",
    "print(\"Input : {} Output {}\".format(1, p1_.calculate_output([1])))\n",
    "# assert p1.calculate([1]) == 0 "
   ]
  },
  {
   "cell_type": "code",
   "execution_count": 4,
   "metadata": {},
   "outputs": [],
   "source": [
    "inputs_2 = ([\n",
    "[0, 0], \n",
    "[0, 1], \n",
    "[1, 0], \n",
    "[1, 1]])"
   ]
  },
  {
   "cell_type": "markdown",
   "metadata": {},
   "source": [
    "### Test van een AND poort"
   ]
  },
  {
   "cell_type": "code",
   "execution_count": 5,
   "metadata": {},
   "outputs": [
    {
     "name": "stdout",
     "output_type": "stream",
     "text": [
      "Weights: [1, 1]\n",
      "Biase/Threshold -2\n",
      "Input : [0, 0] Output 0.11920306327063111 Output(waarheidstabel): 0\n",
      "Input : [0, 1] Output 0.26894155362156696 Output(waarheidstabel): 0\n",
      "Input : [1, 0] Output 0.26894155362156696 Output(waarheidstabel): 0\n",
      "Input : [1, 1] Output 0.5 Output(waarheidstabel): 1\n"
     ]
    }
   ],
   "source": [
    "p2 = Neuron([1, 1], -2)\n",
    "print(p2)\n",
    "\n",
    "outputs_AND = [0,0,0,1]\n",
    "#print output\n",
    "for i in range(len(inputs_2)):\n",
    "    print(\"Input : {} Output {} Output(waarheidstabel): {}\".format(inputs_2[i], p2.calculate_output(inputs_2[i]), outputs_AND[i]))\n",
    "#     assert p2.calculate_output(inputs_2[i]) == outputs_AND[i]"
   ]
  },
  {
   "cell_type": "code",
   "execution_count": 6,
   "metadata": {},
   "outputs": [
    {
     "name": "stdout",
     "output_type": "stream",
     "text": [
      "Weights: [0.3, 0.3]\n",
      "Biase/Threshold -0.5\n",
      "Input : [0, 0] Output 0.3775407478360916 Output(waarheidstabel): 0\n",
      "Input : [0, 1] Output 0.45016603598606136 Output(waarheidstabel): 0\n",
      "Input : [1, 0] Output 0.45016603598606136 Output(waarheidstabel): 0\n",
      "Input : [1, 1] Output 0.5249791707045928 Output(waarheidstabel): 1\n"
     ]
    }
   ],
   "source": [
    "p2_ = Neuron([0.3, 0.3], -0.5)\n",
    "print(p2_)\n",
    "\n",
    "outputs_AND = [0,0,0,1]\n",
    "#print output\n",
    "for i in range(len(inputs_2)):\n",
    "    print(\"Input : {} Output {} Output(waarheidstabel): {}\".format(inputs_2[i], p2_.calculate_output(inputs_2[i]), outputs_AND[i]))\n",
    "#     assert p2.calculate_output(inputs_2[i]) == outputs_AND[i]"
   ]
  },
  {
   "cell_type": "markdown",
   "metadata": {},
   "source": [
    "### Test van een OR poort"
   ]
  },
  {
   "cell_type": "code",
   "execution_count": 7,
   "metadata": {},
   "outputs": [
    {
     "name": "stdout",
     "output_type": "stream",
     "text": [
      "Weights: [1, 1]\n",
      "Biase/Threshold -1\n",
      "Input : [0, 0] Output 0.26894155362156696 Output(waarheidstabel): 0\n",
      "Input : [0, 1] Output 0.5 Output(waarheidstabel): 1\n",
      "Input : [1, 0] Output 0.5 Output(waarheidstabel): 1\n",
      "Input : [1, 1] Output 0.731058446378433 Output(waarheidstabel): 1\n"
     ]
    }
   ],
   "source": [
    "p3 = Neuron([1, 1], -1)\n",
    "print(p3)\n",
    "\n",
    "outputs_OR = [0,1,1,1]\n",
    "for i in range(len(inputs_2)):\n",
    "    print(\"Input : {} Output {} Output(waarheidstabel): {}\".format(inputs_2[i], p3.calculate_output(inputs_2[i]), outputs_OR[i]))\n",
    "#     assert p3.calculate_output(inputs_2[i]) == outputs_OR[i]"
   ]
  },
  {
   "cell_type": "code",
   "execution_count": 8,
   "metadata": {},
   "outputs": [
    {
     "name": "stdout",
     "output_type": "stream",
     "text": [
      "Weights: [4.5, 4.5]\n",
      "Biase/Threshold -3\n",
      "Input : [0, 0] Output 0.04742596434225891 Output(waarheidstabel): 0\n",
      "Input : [0, 1] Output 0.8175743257079459 Output(waarheidstabel): 1\n",
      "Input : [1, 0] Output 0.8175743257079459 Output(waarheidstabel): 1\n",
      "Input : [1, 1] Output 0.9975273668887201 Output(waarheidstabel): 1\n"
     ]
    }
   ],
   "source": [
    "p3_ = Neuron([4.5, 4.5], -3)\n",
    "print(p3_)\n",
    "\n",
    "outputs_OR = [0,1,1,1]\n",
    "for i in range(len(inputs_2)):\n",
    "    print(\"Input : {} Output {} Output(waarheidstabel): {}\".format(inputs_2[i], p3_.calculate_output(inputs_2[i]), outputs_OR[i]))\n",
    "#     assert p3.calculate_output(inputs_2[i]) == outputs_OR[i]"
   ]
  },
  {
   "cell_type": "markdown",
   "metadata": {},
   "source": [
    "*Verklaar waarom dit (niet) werkt? Als het niet goed werkt, initialiseer de Neuron dan met andere parameters, zodat de poorten wel correct functioneren.*"
   ]
  },
  {
   "cell_type": "markdown",
   "metadata": {},
   "source": [
    "Het verschil tussen de Neuron en Perceptron zijn de activatie functies.De outputs van de poorten van de Neuron zijn continu en de outputs van de perceptron zijn waardes van 0 en 1.\n",
    "Dit komt, omdat de sigmoid functie( Neuron ) geeft een output tussen de 0 en 1.De outputs zal echter nooit precies 0 of 1 bereiken.\n",
    "De step functie ( Perceptron ) geeft een output van 0 en 1."
   ]
  },
  {
   "cell_type": "markdown",
   "metadata": {},
   "source": [
    "### Test van een NOR poort"
   ]
  },
  {
   "cell_type": "code",
   "execution_count": 9,
   "metadata": {},
   "outputs": [],
   "source": [
    "inputs_3 = [[0,0,0], \n",
    "      [0,0,1], \n",
    "      [0,1,0],\n",
    "      [1,0,0],\n",
    "      [0,1,1],\n",
    "      [1,0,1],\n",
    "      [1,1,0],\n",
    "      [1,1,1]]"
   ]
  },
  {
   "cell_type": "markdown",
   "metadata": {},
   "source": [
    "Deze werken niet, ze komt niet in de buurt van de waarden van de Perceptron.De parameters moeten worden aangepast worden."
   ]
  },
  {
   "cell_type": "code",
   "execution_count": 10,
   "metadata": {},
   "outputs": [
    {
     "name": "stdout",
     "output_type": "stream",
     "text": [
      "Weights: [-5, -5, -5]\n",
      "Biase/Threshold 2\n",
      "Input : [0, 0, 0] Output 0.880796936729369\n",
      "Input : [0, 0, 1] Output 0.04742596434225891\n",
      "Input : [0, 1, 0] Output 0.04742596434225891\n",
      "Input : [1, 0, 0] Output 0.04742596434225891\n",
      "Input : [0, 1, 1] Output 0.0003353519344595719\n",
      "Input : [1, 0, 1] Output 0.0003353519344595719\n",
      "Input : [1, 1, 0] Output 0.0003353519344595719\n",
      "Input : [1, 1, 1] Output 2.2603440633179893e-06\n"
     ]
    }
   ],
   "source": [
    "p4 = Neuron([-5, -5, -5], 2) # NOR\n",
    "print(p4)\n",
    "\n",
    "outputs_NOR = [1,0,0,0,0,0,0,0]\n",
    "for i in range(len(inputs_3)):\n",
    "    print(\"Input : {} Output {}\".format(inputs_3[i], p4.calculate_output(inputs_3[i])))\n",
    "#     assert p4.calculate(inputs_3[i]) == outputs_NOR[i]"
   ]
  },
  {
   "cell_type": "markdown",
   "metadata": {},
   "source": [
    "## Neuron Network "
   ]
  },
  {
   "cell_type": "code",
   "execution_count": 11,
   "metadata": {},
   "outputs": [],
   "source": [
    "p1_ = Neuron([6 , 6], -3)\n",
    "p2_ = Neuron([-6, -6], 9)\n",
    "p3_ = Neuron([6, 6], -12)"
   ]
  },
  {
   "cell_type": "code",
   "execution_count": 12,
   "metadata": {},
   "outputs": [],
   "source": [
    "hiddenlayer_ =NeuronLayer()\n",
    "hiddenlayer_.n_neurons.append(p1_)\n",
    "hiddenlayer_.n_neurons.append(p2_)\n",
    "hiddenlayer_.n_neurons.append(p3_)"
   ]
  },
  {
   "cell_type": "code",
   "execution_count": 13,
   "metadata": {},
   "outputs": [
    {
     "name": "stdout",
     "output_type": "stream",
     "text": [
      "Size of layer is 3 perceptrons\n"
     ]
    }
   ],
   "source": [
    "print(hiddenlayer_)"
   ]
  },
  {
   "cell_type": "code",
   "execution_count": 19,
   "metadata": {
    "scrolled": true
   },
   "outputs": [],
   "source": [
    "psum = Neuron([9, 9,0], -18)\n",
    "pcarry= Neuron([0, 0, 9], -3)"
   ]
  },
  {
   "cell_type": "code",
   "execution_count": 20,
   "metadata": {},
   "outputs": [],
   "source": [
    "outputlayer_= NeuronLayer()\n",
    "outputlayer_.n_neurons.append(psum)\n",
    "outputlayer_.n_neurons.append(pcarry)"
   ]
  },
  {
   "cell_type": "code",
   "execution_count": 21,
   "metadata": {},
   "outputs": [
    {
     "name": "stdout",
     "output_type": "stream",
     "text": [
      "Size of layer is 2 perceptrons\n"
     ]
    }
   ],
   "source": [
    "# print layer\n",
    "print(outputlayer_)"
   ]
  },
  {
   "cell_type": "code",
   "execution_count": 22,
   "metadata": {},
   "outputs": [],
   "source": [
    "pn_ = NeuronNetwork()\n",
    "pn_.n_layers.append(hiddenlayer_)\n",
    "pn_.n_layers.append(outputlayer_)"
   ]
  },
  {
   "cell_type": "code",
   "execution_count": 23,
   "metadata": {},
   "outputs": [
    {
     "name": "stdout",
     "output_type": "stream",
     "text": [
      "Input : [0, 0] Output [0.0001888684158949334, 0.04742846258739576], Verwachte Outputs: 0 0\n",
      "Input : [0, 1] Output [0.29866423205016235, 0.048441499232912785], Verwachte Outputs: 1 0\n",
      "Input : [1, 0] Output [0.29866423205016235, 0.048441499232912785], Verwachte Outputs: 1 0\n",
      "Input : [1, 1] Output [0.0001888684158949334, 0.8175743257079459], Verwachte Outputs: 0 1\n"
     ]
    }
   ],
   "source": [
    "actual_outputs = [[0,0], [1,0], [1,0],[0,1]]\n",
    "for i in range(len(inputs_2)): \n",
    "    print(\"Input : {} Output {}, Verwachte Outputs: {} {}\".format(inputs_2[i], pn_.feed_forward(inputs_2[i]), actual_outputs[i][0], actual_outputs[i][1]))\n",
    "    #assert pn_.feed_forward(inputs_2[i]) == actual_outputs[i] # integration test: check if the outcome is correct."
   ]
  },
  {
   "cell_type": "code",
   "execution_count": null,
   "metadata": {},
   "outputs": [],
   "source": []
  },
  {
   "cell_type": "code",
   "execution_count": null,
   "metadata": {},
   "outputs": [],
   "source": []
  }
 ],
 "metadata": {
  "kernelspec": {
   "display_name": "Python 3",
   "language": "python",
   "name": "python3"
  },
  "language_info": {
   "codemirror_mode": {
    "name": "ipython",
    "version": 3
   },
   "file_extension": ".py",
   "mimetype": "text/x-python",
   "name": "python",
   "nbconvert_exporter": "python",
   "pygments_lexer": "ipython3",
   "version": "3.8.1"
  }
 },
 "nbformat": 4,
 "nbformat_minor": 4
}
