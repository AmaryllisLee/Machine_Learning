{
 "cells": [
  {
   "cell_type": "code",
   "execution_count": null,
   "metadata": {},
   "outputs": [],
   "source": [
    "from neuron import *"
   ]
  },
  {
   "cell_type": "code",
   "execution_count": null,
   "metadata": {},
   "outputs": [],
   "source": [
    "inputs_2 = [[0, 0], \n",
    "[1, 0], \n",
    "[0, 1], \n",
    "[1, 1]]\n"
   ]
  },
  {
   "cell_type": "code",
   "execution_count": null,
   "metadata": {},
   "outputs": [],
   "source": [
    "n2 = OutputNeuron([-0.5, 0.5], 1.5, 1)\n",
    "output_AND = [0,0,0,1]\n",
    "print(n2)\n",
    "\n",
    "for i in range(len(inputs_2)):\n",
    "    n2.calculate_output(inputs_2[i]) # feedforward')\n",
    "    n2.set_error(output_AND[i])\n",
    "    n2.update(inputs_2[i])\n",
    "    print(n2.weights, n2.bias)\n",
    "    \n",
    "#Cost\n",
    "n2.cost(inputs_2, output_AND)\n",
    "    \n",
    "    "
   ]
  },
  {
   "cell_type": "code",
   "execution_count": null,
   "metadata": {},
   "outputs": [],
   "source": [
    "# update weights and bias for 1000 epochs ( 4*1000 = 4000 iteraties)\n",
    "for _ in range(1000): # iterating this for 1000 epochs\n",
    "    for i in range(len(inputs_2)):\n",
    "        n2.calculate_output(inputs_2[i]) # feedforward')\n",
    "        n2.set_error(output_AND[i])\n",
    "        n2.update(inputs_2[i])\n",
    "print(n2.weights, n2.bias)"
   ]
  },
  {
   "cell_type": "code",
   "execution_count": null,
   "metadata": {},
   "outputs": [],
   "source": [
    "for i in range(len(inputs_2)):\n",
    "        n2.calculate_output(inputs_2[i]) # feedforward'\n",
    "        print(n2.output)\n",
    "#Cost\n",
    "n2.cost(inputs_2, output_AND)"
   ]
  },
  {
   "cell_type": "markdown",
   "metadata": {},
   "source": [
    "## XOR"
   ]
  },
  {
   "cell_type": "code",
   "execution_count": null,
   "metadata": {},
   "outputs": [],
   "source": [
    "f = HiddenNeuron([0.2, -0.4], 0)\n",
    "g = HiddenNeuron([0.7,0.1], 0)\n",
    "o = OutputNeuron([0.6, 0.9], 0)"
   ]
  },
  {
   "cell_type": "code",
   "execution_count": null,
   "metadata": {},
   "outputs": [],
   "source": [
    "hiddenlayer = HiddenLayer()\n",
    "hiddenlayer.n_neurons.append(f)\n",
    "hiddenlayer.n_neurons.append(g)\n",
    "\n",
    "outputlayer = OutputLayer()\n",
    "outputlayer.n_neurons.append(o)\n",
    "\n",
    "pn = NeuronNetwork()\n",
    "pn.n_layers.append(hiddenlayer)\n",
    "pn.n_layers.append(outputlayer)"
   ]
  },
  {
   "cell_type": "code",
   "execution_count": null,
   "metadata": {},
   "outputs": [],
   "source": [
    "targets_XOR= [[0],[1],[1],[0]]\n",
    "#print feedforward before trainging\n",
    "for i in inputs_2:\n",
    "    pn.feed_forward(i)\n",
    "# pn.train(inputs_2, targets_XOR)"
   ]
  },
  {
   "cell_type": "code",
   "execution_count": null,
   "metadata": {},
   "outputs": [],
   "source": [
    "# print feedforward after training\n",
    "for i in range(len(inputs_2)):\n",
    "    print(pn.feed_forward(inputs_2[i]))\n",
    "pn.train(inputs_2, targets_XOR)"
   ]
  },
  {
   "cell_type": "code",
   "execution_count": null,
   "metadata": {},
   "outputs": [],
   "source": [
    "for i in range(len(inputs_2)):\n",
    "    print(pn.feed_forward(inputs_2[i]))"
   ]
  },
  {
   "cell_type": "markdown",
   "metadata": {},
   "source": [
    "## Half adder"
   ]
  },
  {
   "cell_type": "code",
   "execution_count": null,
   "metadata": {},
   "outputs": [],
   "source": [
    "f = HiddenNeuron([0.0, 0.1], 0)\n",
    "g = HiddenNeuron([0.2,0.3], 0)\n",
    "h = HiddenNeuron([0.4,  0.5], 0)\n",
    "\n",
    "s = OutputNeuron([0.6, 0.7,0.8], 0)\n",
    "c = OutputNeuron([0.9,1.0,  1.1], 0)\n",
    "\n",
    "hiddenlayer = HiddenLayer()\n",
    "hiddenlayer.n_neurons.append(f)\n",
    "hiddenlayer.n_neurons.append(g)\n",
    "hiddenlayer.n_neurons.append(h)\n",
    "\n",
    "outputlayer = OutputLayer()\n",
    "outputlayer.n_neurons.append(s)\n",
    "outputlayer.n_neurons.append(c)\n",
    "\n",
    "pn = NeuronNetwork()\n",
    "pn.n_layers.append(hiddenlayer)\n",
    "pn.n_layers.append(outputlayer)"
   ]
  },
  {
   "cell_type": "code",
   "execution_count": null,
   "metadata": {},
   "outputs": [],
   "source": [
    "targets_HALF_ADDER= [[0,0], [1,0], [1,0],[0,1]]\n",
    "#print feedforward before trainging\n",
    "for i in range(len(inputs_2)):\n",
    "    print(pn.feed_forward(inputs_2[i]))\n",
    "pn.train(inputs_2, targets_HALF_ADDER)    "
   ]
  },
  {
   "cell_type": "code",
   "execution_count": null,
   "metadata": {},
   "outputs": [],
   "source": [
    "# print feedforward after training\n",
    "for i in range(len(inputs_2)):\n",
    "    print(pn.feed_forward(inputs_2[i]))"
   ]
  }
 ],
 "metadata": {
  "kernelspec": {
   "display_name": "Python 3",
   "language": "python",
   "name": "python3"
  },
  "language_info": {
   "codemirror_mode": {
    "name": "ipython",
    "version": 3
   },
   "file_extension": ".py",
   "mimetype": "text/x-python",
   "name": "python",
   "nbconvert_exporter": "python",
   "pygments_lexer": "ipython3",
   "version": "3.8.1"
  }
 },
 "nbformat": 4,
 "nbformat_minor": 4
}
